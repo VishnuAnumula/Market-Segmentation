{
 "cells": [
  {
   "cell_type": "code",
   "execution_count": 1,
   "id": "5ea326b5",
   "metadata": {},
   "outputs": [
    {
     "name": "stdout",
     "output_type": "stream",
     "text": [
      "Columns list:  ['yummy', 'convenient', 'spicy', 'fattening', 'greasy', 'fast', 'cheap', 'tasty', 'expensive', 'healthy', 'disgusting', 'Like', 'Age', 'VisitFrequency', 'Gender']\n",
      "Dimensions: (1453, 15) \n",
      "\n",
      "  yummy convenient spicy fattening greasy fast cheap tasty expensive healthy  \\\n",
      "0    No        Yes    No       Yes     No  Yes   Yes    No       Yes      No   \n",
      "1   Yes        Yes    No       Yes    Yes  Yes   Yes   Yes       Yes      No   \n",
      "2    No        Yes   Yes       Yes    Yes  Yes    No   Yes       Yes     Yes   \n",
      "\n",
      "  disgusting Like  Age      VisitFrequency  Gender  \n",
      "0         No   -3   61  Every three months  Female  \n",
      "1         No   +2   51  Every three months  Female  \n",
      "2         No   +1   62  Every three months  Female   \n",
      "\n",
      "yummy             0.6\n",
      "convenient        0.9\n",
      "spicy             0.2\n",
      "fattening         1.0\n",
      "greasy            0.7\n",
      "fast              0.9\n",
      "cheap             0.6\n",
      "tasty             0.7\n",
      "expensive         0.5\n",
      "healthy           0.3\n",
      "disgusting        0.3\n",
      "Like              0.0\n",
      "Age               0.0\n",
      "VisitFrequency    0.0\n",
      "Gender            0.0\n",
      "dtype: float64 \n",
      "\n"
     ]
    }
   ],
   "source": [
    "import pandas as pd\n",
    "from sklearn.decomposition import PCA\n",
    "import matplotlib.pyplot as plt\n",
    "from sklearn.cluster import KMeans\n",
    "\n",
    "# Step 4 - Exploring Data\n",
    "md=pd.read_csv(r'E:\\Django\\mcdonalds.csv')\n",
    "print(\"Columns list: \", list(md.columns))\n",
    "print(\"Dimensions:\", md.shape, '\\n')\n",
    "print(md.head(3), '\\n')\n",
    "MDx=md[1:11]\n",
    "MDx=(MDx==\"Yes\")+0\n",
    "print(MDx.mean(), '\\n')"
   ]
  },
  {
   "cell_type": "code",
   "execution_count": 2,
   "id": "0e5a7911",
   "metadata": {},
   "outputs": [
    {
     "name": "stdout",
     "output_type": "stream",
     "text": [
      "Variance: [32.4141, 28.9705, 17.4432, 10.9978, 4.5759, 2.4348, 1.6455, 1.3894, 0.1288, 0.0]\n"
     ]
    }
   ],
   "source": [
    "pca=PCA().fit(MDx)\n",
    "MDpca=pca.transform(MDx)\n",
    "print('Variance:', list((pca.explained_variance_ratio_*100).round(4)))"
   ]
  },
  {
   "cell_type": "code",
   "execution_count": 3,
   "id": "4f00eda5",
   "metadata": {},
   "outputs": [
    {
     "data": {
      "image/png": "[encoded data removed]",
      "text/plain": [
       "<Figure size 576x576 with 1 Axes>"
      ]
     },
     "metadata": {
      "needs_background": "light"
     },
     "output_type": "display_data"
    }
   ],
   "source": [
    "plt.figure(figsize = (8,8))\n",
    "plt.xlabel('PC1')\n",
    "plt.ylabel('PC2')\n",
    "plt.scatter(MDpca[:, 0], MDpca[:, 1])\n",
    "plt.show()"
   ]
  },
  {
   "cell_type": "code",
   "execution_count": 4,
   "id": "970e5855",
   "metadata": {},
   "outputs": [
    {
     "data": {
      "image/png": "[encoded data removed]",
      "text/plain": [
       "<Figure size 432x288 with 1 Axes>"
      ]
     },
     "metadata": {
      "needs_background": "light"
     },
     "output_type": "display_data"
    }
   ],
   "source": [
    "# Step 5 - Extracting Segments\n",
    "# 5.1\n",
    "MDkm28=[]\n",
    "for i in range(1, 9):\n",
    "    km=KMeans(n_clusters=i, init='k-means++', max_iter=300, n_init=10, random_state=0)\n",
    "    km.fit(MDx)\n",
    "    MDkm28.append(km.inertia_)\n",
    "plt.bar(range(1, 9), MDkm28)\n",
    "plt.xlabel('Number of segments')\n",
    "plt.ylabel('WCSS')\n",
    "plt.show()\n",
    "\n",
    "MDk4=MDkm28[:4]"
   ]
  }
 ],
 "metadata": {
  "kernelspec": {
   "display_name": "Python 3 (ipykernel)",
   "language": "python",
   "name": "python3"
  },
  "language_info": {
   "codemirror_mode": {
    "name": "ipython",
    "version": 3
   },
   "file_extension": ".py",
   "mimetype": "text/x-python",
   "name": "python",
   "nbconvert_exporter": "python",
   "pygments_lexer": "ipython3",
   "version": "3.9.7"
  }
 },
 "nbformat": 4,
 "nbformat_minor": 5
}
